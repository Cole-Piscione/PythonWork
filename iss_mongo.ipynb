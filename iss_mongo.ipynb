{
 "cells": [
  {
   "cell_type": "code",
   "execution_count": 1,
   "metadata": {},
   "outputs": [],
   "source": [
    "import requests\n",
    "from pymongo import MongoClient\n",
    "from geopy.geocoders import Nominatim\n",
    "import time\n"
   ]
  },
  {
   "cell_type": "code",
   "execution_count": 2,
   "metadata": {},
   "outputs": [],
   "source": [
    "def insert_into_mongo(country: str):\n",
    "    countries = {\n",
    "        \"country\": country\n",
    "    }\n",
    "\n",
    "    created_product = collection.insert_one(countries)\n",
    "    return created_product.inserted_id\n"
   ]
  },
  {
   "cell_type": "code",
   "execution_count": 3,
   "metadata": {},
   "outputs": [
    {
     "name": "stdout",
     "output_type": "stream",
     "text": [
      "location unknown (must be a body of water), going to sleep...\n",
      "location unknown (must be a body of water), going to sleep...\n",
      "location unknown (must be a body of water), going to sleep...\n",
      "location unknown (must be a body of water), going to sleep...\n"
     ]
    },
    {
     "ename": "KeyboardInterrupt",
     "evalue": "",
     "output_type": "error",
     "traceback": [
      "\u001b[1;31m---------------------------------------------------------------------------\u001b[0m",
      "\u001b[1;31mKeyboardInterrupt\u001b[0m                         Traceback (most recent call last)",
      "Cell \u001b[1;32mIn[3], line 18\u001b[0m\n\u001b[0;32m     16\u001b[0m \u001b[39mif\u001b[39;00m location \u001b[39mis\u001b[39;00m \u001b[39mNone\u001b[39;00m:\n\u001b[0;32m     17\u001b[0m     \u001b[39mprint\u001b[39m(\u001b[39m\"\u001b[39m\u001b[39mlocation unknown (must be a body of water), going to sleep...\u001b[39m\u001b[39m\"\u001b[39m)\n\u001b[1;32m---> 18\u001b[0m     time\u001b[39m.\u001b[39;49msleep(\u001b[39m30\u001b[39;49m)\n\u001b[0;32m     19\u001b[0m     \u001b[39mcontinue\u001b[39;00m \n\u001b[0;32m     21\u001b[0m \u001b[39melse\u001b[39;00m:\n",
      "\u001b[1;31mKeyboardInterrupt\u001b[0m: "
     ]
    }
   ],
   "source": [
    "geolocator = Nominatim(user_agent=\"test\")\n",
    "\n",
    "client = MongoClient(\"mongodb://localhost:27017\")\n",
    "database = client.mydb\n",
    "collection = database['countries']\n",
    "\n",
    "while True:\n",
    "    url = 'https://api.wheretheiss.at/v1/satellites/25544'\n",
    "    headers = {'Accepts': 'application/json'}\n",
    "\n",
    "    r = requests.get(url, headers=headers)\n",
    "    new = r.json()\n",
    "    \n",
    "    location = geolocator.reverse(f\"{new['latitude']}, {new['longitude']}\")\n",
    "\n",
    "    if location is None:\n",
    "        print(\"location unknown (must be a body of water), going to sleep...\")\n",
    "        time.sleep(30)\n",
    "        continue \n",
    "\n",
    "    else:\n",
    "        insert_into_mongo('locations.address')\n",
    "        break"
   ]
  }
 ],
 "metadata": {
  "kernelspec": {
   "display_name": "Python 3",
   "language": "python",
   "name": "python3"
  },
  "language_info": {
   "codemirror_mode": {
    "name": "ipython",
    "version": 3
   },
   "file_extension": ".py",
   "mimetype": "text/x-python",
   "name": "python",
   "nbconvert_exporter": "python",
   "pygments_lexer": "ipython3",
   "version": "3.10.4"
  },
  "orig_nbformat": 4,
  "vscode": {
   "interpreter": {
    "hash": "70421f5f0cc010d0d2ea1c93b0b378f400edc45d27392d3a85ceae24da975056"
   }
  }
 },
 "nbformat": 4,
 "nbformat_minor": 2
}

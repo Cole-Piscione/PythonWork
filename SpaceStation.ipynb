{
 "cells": [
  {
   "cell_type": "code",
   "execution_count": 1,
   "metadata": {},
   "outputs": [],
   "source": [
    "import requests\n",
    "from geopy.geocoders import Nominatim\n",
    "import time\n",
    "import sqlite3 as sql"
   ]
  },
  {
   "cell_type": "code",
   "execution_count": 2,
   "metadata": {},
   "outputs": [
    {
     "name": "stdout",
     "output_type": "stream",
     "text": [
      "location unknown (must be a body of water), going to sleep...\n",
      "location unknown (must be a body of water), going to sleep...\n"
     ]
    }
   ],
   "source": [
    "geolocator = Nominatim(user_agent=\"test\")\n",
    "\n",
    "\n",
    "conn = sql.connect(\"data.db\")\n",
    "cursor = conn.cursor()\n",
    "cursor.execute(\"CREATE TABLE IF NOT EXISTS locations(id integer PRIMARY KEY, country text)\")\n",
    "conn.commit()\n",
    "\n",
    "\n",
    "\n",
    "while True:\n",
    "    url = 'https://api.wheretheiss.at/v1/satellites/25544'\n",
    "    headers = {'Accepts': 'application/json'}\n",
    "\n",
    "    r = requests.get(url, headers=headers)\n",
    "    new = r.json()\n",
    "    \n",
    "    location = geolocator.reverse(f\"{new['latitude']}, {new['longitude']}\")\n",
    "\n",
    "    if location is None:\n",
    "        print(\"location unknown (must be a body of water), going to sleep...\")\n",
    "        time.sleep(30)\n",
    "        continue \n",
    "\n",
    "    else:\n",
    "        print(location.address)\n",
    "        cursor.execute(\"INSERT INTO locations(country) VALUES(?)\", (location.address,))\n",
    "        conn.commit()\n",
    "        break"
   ]
  },
  {
   "cell_type": "code",
   "execution_count": null,
   "metadata": {},
   "outputs": [],
   "source": [
    "cursor.execute(\"SELECT * FROM locations\")\n",
    "cursor.fetchall()"
   ]
  },
  {
   "cell_type": "code",
   "execution_count": 3,
   "metadata": {},
   "outputs": [],
   "source": [
    "import pandas as pd"
   ]
  },
  {
   "cell_type": "code",
   "execution_count": 6,
   "metadata": {},
   "outputs": [],
   "source": [
    "cursor.execute(\"INSERT INTO locations(country) VALUES ('Japan')\")\n",
    "conn.commit()"
   ]
  },
  {
   "cell_type": "code",
   "execution_count": 7,
   "metadata": {},
   "outputs": [
    {
     "data": {
      "text/html": [
       "<div>\n",
       "<style scoped>\n",
       "    .dataframe tbody tr th:only-of-type {\n",
       "        vertical-align: middle;\n",
       "    }\n",
       "\n",
       "    .dataframe tbody tr th {\n",
       "        vertical-align: top;\n",
       "    }\n",
       "\n",
       "    .dataframe thead th {\n",
       "        text-align: right;\n",
       "    }\n",
       "</style>\n",
       "<table border=\"1\" class=\"dataframe\">\n",
       "  <thead>\n",
       "    <tr style=\"text-align: right;\">\n",
       "      <th></th>\n",
       "      <th>id</th>\n",
       "      <th>country</th>\n",
       "    </tr>\n",
       "  </thead>\n",
       "  <tbody>\n",
       "    <tr>\n",
       "      <th>0</th>\n",
       "      <td>1</td>\n",
       "      <td>France</td>\n",
       "    </tr>\n",
       "    <tr>\n",
       "      <th>1</th>\n",
       "      <td>2</td>\n",
       "      <td>United Kingdom</td>\n",
       "    </tr>\n",
       "    <tr>\n",
       "      <th>2</th>\n",
       "      <td>3</td>\n",
       "      <td>Japan</td>\n",
       "    </tr>\n",
       "  </tbody>\n",
       "</table>\n",
       "</div>"
      ],
      "text/plain": [
       "   id         country\n",
       "0   1          France\n",
       "1   2  United Kingdom\n",
       "2   3           Japan"
      ]
     },
     "execution_count": 7,
     "metadata": {},
     "output_type": "execute_result"
    }
   ],
   "source": [
    "df = pd.read_sql(sql=\"SELECT * FROM locations\", con=conn)\n",
    "df"
   ]
  },
  {
   "cell_type": "code",
   "execution_count": null,
   "metadata": {},
   "outputs": [],
   "source": [
    "df.to_csv(\"locs.csv\", index=False)"
   ]
  },
  {
   "cell_type": "code",
   "execution_count": null,
   "metadata": {},
   "outputs": [],
   "source": []
  }
 ],
 "metadata": {
  "kernelspec": {
   "display_name": "Python 3",
   "language": "python",
   "name": "python3"
  },
  "language_info": {
   "codemirror_mode": {
    "name": "ipython",
    "version": 3
   },
   "file_extension": ".py",
   "mimetype": "text/x-python",
   "name": "python",
   "nbconvert_exporter": "python",
   "pygments_lexer": "ipython3",
   "version": "3.10.4"
  },
  "orig_nbformat": 4,
  "vscode": {
   "interpreter": {
    "hash": "70421f5f0cc010d0d2ea1c93b0b378f400edc45d27392d3a85ceae24da975056"
   }
  }
 },
 "nbformat": 4,
 "nbformat_minor": 2
}

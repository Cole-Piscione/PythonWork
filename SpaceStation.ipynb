{
 "cells": [
  {
   "cell_type": "code",
   "execution_count": 3,
   "metadata": {},
   "outputs": [],
   "source": [
    "import requests\n",
    "from geopy.geocoders import Nominatim\n",
    "import time "
   ]
  },
  {
   "cell_type": "code",
   "execution_count": 6,
   "metadata": {},
   "outputs": [
    {
     "data": {
      "text/plain": [
       "{'name': 'iss',\n",
       " 'id': 25544,\n",
       " 'latitude': 13.241606453598,\n",
       " 'longitude': -75.886306841649,\n",
       " 'altitude': 414.31819818686,\n",
       " 'velocity': 27600.735677592,\n",
       " 'visibility': 'daylight',\n",
       " 'footprint': 4478.4433001778,\n",
       " 'timestamp': 1671903512,\n",
       " 'daynum': 2459938.2350926,\n",
       " 'solar_lat': -23.406616509741,\n",
       " 'solar_lon': 275.28714632319,\n",
       " 'units': 'kilometers'}"
      ]
     },
     "execution_count": 6,
     "metadata": {},
     "output_type": "execute_result"
    }
   ],
   "source": [
    "url = 'https://api.wheretheiss.at/v1/satellites/25544'\n",
    "headers = {'Accepts': 'application/json'}\n",
    "\n",
    "r = requests.get(url, headers=headers)\n",
    "new = r.json()\n",
    "new"
   ]
  },
  {
   "cell_type": "code",
   "execution_count": 7,
   "metadata": {},
   "outputs": [
    {
     "name": "stdout",
     "output_type": "stream",
     "text": [
      "location unknown (must be a body of water), going to sleep...\n"
     ]
    }
   ],
   "source": [
    "geolocator = Nominatim(user_agent=\"test\")\n",
    "\n",
    "while True:\n",
    "    url = 'https://api.wheretheiss.at/v1/satellites/25544'\n",
    "    headers = {'Accepts': 'application/json'}\n",
    "\n",
    "    r = requests.get(url, headers=headers)\n",
    "    new = r.json()\n",
    "    new\n",
    "\n",
    "    location = geolocator.reverse(f\"{new['latitude']}, {new['longitude']}\")\n",
    "\n",
    "    if location is None:\n",
    "        print(\"location unknown (must be a body of water), going to sleep...\")\n",
    "        time.sleep(30)\n",
    "        continue \n",
    "\n",
    "    else:\n",
    "        print(location.address)\n",
    "        break "
   ]
  },
  {
   "cell_type": "code",
   "execution_count": 10,
   "metadata": {},
   "outputs": [
    {
     "data": {
      "text/plain": [
       "-48.25010511899"
      ]
     },
     "execution_count": 10,
     "metadata": {},
     "output_type": "execute_result"
    }
   ],
   "source": [
    "new['latitude']"
   ]
  },
  {
   "cell_type": "code",
   "execution_count": 11,
   "metadata": {},
   "outputs": [
    {
     "data": {
      "text/plain": [
       "-15.146657999075"
      ]
     },
     "execution_count": 11,
     "metadata": {},
     "output_type": "execute_result"
    }
   ],
   "source": [
    "new['longitude']"
   ]
  },
  {
   "cell_type": "code",
   "execution_count": 19,
   "metadata": {},
   "outputs": [
    {
     "data": {
      "text/plain": [
       "'-23.424155830858, 255.19063133778'"
      ]
     },
     "execution_count": 19,
     "metadata": {},
     "output_type": "execute_result"
    }
   ],
   "source": []
  },
  {
   "cell_type": "code",
   "execution_count": null,
   "metadata": {},
   "outputs": [],
   "source": []
  }
 ],
 "metadata": {
  "kernelspec": {
   "display_name": "Python 3",
   "language": "python",
   "name": "python3"
  },
  "language_info": {
   "codemirror_mode": {
    "name": "ipython",
    "version": 3
   },
   "file_extension": ".py",
   "mimetype": "text/x-python",
   "name": "python",
   "nbconvert_exporter": "python",
   "pygments_lexer": "ipython3",
   "version": "3.10.4 (tags/v3.10.4:9d38120, Mar 23 2022, 23:13:41) [MSC v.1929 64 bit (AMD64)]"
  },
  "orig_nbformat": 4,
  "vscode": {
   "interpreter": {
    "hash": "70421f5f0cc010d0d2ea1c93b0b378f400edc45d27392d3a85ceae24da975056"
   }
  }
 },
 "nbformat": 4,
 "nbformat_minor": 2
}

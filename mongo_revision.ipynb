{
 "cells": [
  {
   "cell_type": "code",
   "execution_count": 1,
   "metadata": {},
   "outputs": [],
   "source": [
    "from pymongo import MongoClient"
   ]
  },
  {
   "cell_type": "code",
   "execution_count": 2,
   "metadata": {},
   "outputs": [],
   "source": [
    "client = MongoClient(\"mongodb://localhost:27017\") # establishing a connection to our mongo server (give us access to the databases on the server)"
   ]
  },
  {
   "cell_type": "code",
   "execution_count": 3,
   "metadata": {},
   "outputs": [],
   "source": [
    "database = client.mydb \n",
    "collection = database['products']"
   ]
  },
  {
   "cell_type": "code",
   "execution_count": 4,
   "metadata": {},
   "outputs": [],
   "source": [
    "def insert_product(title: str, quantity: int, price: float, in_stock: bool):\n",
    "    document = {\n",
    "        \"title\": title,\n",
    "        \"quantity\": quantity,\n",
    "        \"price\": price,\n",
    "        \"in_stock\": in_stock\n",
    "    }\n",
    "\n",
    "    created_doc = collection.insert_one(document)\n",
    "    return created_doc.inserted_id"
   ]
  },
  {
   "cell_type": "code",
   "execution_count": 5,
   "metadata": {},
   "outputs": [
    {
     "data": {
      "text/plain": [
       "ObjectId('63adf6232e829f7d5896f262')"
      ]
     },
     "execution_count": 5,
     "metadata": {},
     "output_type": "execute_result"
    }
   ],
   "source": [
    "insert_product(\"Apple Watch\", 35, 999.99, True)"
   ]
  },
  {
   "cell_type": "code",
   "execution_count": 16,
   "metadata": {},
   "outputs": [
    {
     "name": "stdout",
     "output_type": "stream",
     "text": [
      "{'_id': ObjectId('63a895d2a829e1fee1eb3c70'), 'title': 'iPhone 14 Pro', 'price': Decimal128('1000.00'), 'stock_quantity': 18, 'brand': 'apple'}\n",
      "{'_id': ObjectId('63adf6232e829f7d5896f262'), 'title': 'Apple Watch', 'quantity': 35, 'price': 999.99, 'in_stock': True}\n",
      "{'_id': ObjectId('63adf76e2e829f7d5896f263'), 'title': 'RC helicopter', 'quantity': 45, 'price': 23.98, 'in_stock': True}\n",
      "{'_id': ObjectId('63adf76e2e829f7d5896f264'), 'title': 'RC plane', 'quantity': 15, 'price': 150.98, 'in_stock': True}\n",
      "{'_id': ObjectId('63adf76e2e829f7d5896f265'), 'title': 'RC car', 'quantity': 150, 'price': 10.34, 'in_stock': True}\n"
     ]
    }
   ],
   "source": [
    "for obj in collection.find():\n",
    "    print(obj)"
   ]
  },
  {
   "cell_type": "code",
   "execution_count": 8,
   "metadata": {},
   "outputs": [],
   "source": [
    "products = [\n",
    "    {\n",
    "        \"name\": \"RC helicopter\",\n",
    "        \"cost\": 23.98,\n",
    "        \"stock_status\": True,\n",
    "        \"quantity\": 45\n",
    "    },\n",
    "    {\n",
    "        \"name\": \"RC plane\",\n",
    "        \"cost\": 150.98,\n",
    "        \"stock_status\": True,\n",
    "        \"quantity\": 15\n",
    "    },\n",
    "    {\n",
    "        \"name\": \"RC car\",\n",
    "        \"cost\": 10.34,\n",
    "        \"stock_status\": True,\n",
    "        \"quantity\": 150\n",
    "    }\n",
    "]"
   ]
  },
  {
   "cell_type": "code",
   "execution_count": 9,
   "metadata": {},
   "outputs": [],
   "source": [
    "for item in products:\n",
    "    insert_product(item['name'], item['quantity'], item['cost'], item['stock_status'])"
   ]
  },
  {
   "attachments": {},
   "cell_type": "markdown",
   "metadata": {},
   "source": [
    "### data classes"
   ]
  },
  {
   "cell_type": "code",
   "execution_count": 11,
   "metadata": {},
   "outputs": [],
   "source": [
    "from dataclasses import dataclass"
   ]
  },
  {
   "cell_type": "code",
   "execution_count": 25,
   "metadata": {},
   "outputs": [],
   "source": [
    "@dataclass\n",
    "class MongoProduct:\n",
    "    title: str \n",
    "    price: float \n",
    "    quantity: int\n",
    "    in_stock: bool \n",
    "\n",
    "    def get_inventory_value(self):\n",
    "        return self.price * self.quantity\n",
    "\n",
    "    def check_in_stock(self):\n",
    "        if self.in_stock:\n",
    "            return f\"The product {self.title} is in stock\"\n",
    "\n",
    "        else:\n",
    "            return f\"We ran out of {self.title}, come back tomorrow \""
   ]
  },
  {
   "cell_type": "code",
   "execution_count": 26,
   "metadata": {},
   "outputs": [
    {
     "name": "stdout",
     "output_type": "stream",
     "text": [
      "[MongoProduct(title='Apple Watch', price=999.99, quantity=35, in_stock=True), MongoProduct(title='RC helicopter', price=23.98, quantity=45, in_stock=True), MongoProduct(title='RC plane', price=150.98, quantity=15, in_stock=True), MongoProduct(title='RC car', price=10.34, quantity=150, in_stock=True)]\n"
     ]
    }
   ],
   "source": [
    "mongo_python_objects = []\n",
    "\n",
    "for document in collection.find():\n",
    "    try:\n",
    "        convert_to_object = MongoProduct(document['title'], document['price'], document['quantity'], document['in_stock'])\n",
    "        mongo_python_objects.append(convert_to_object)\n",
    "\n",
    "    except:\n",
    "        continue \n",
    "\n",
    "print(mongo_python_objects)"
   ]
  },
  {
   "cell_type": "code",
   "execution_count": 27,
   "metadata": {},
   "outputs": [
    {
     "data": {
      "text/plain": [
       "[MongoProduct(title='Apple Watch', price=999.99, quantity=35, in_stock=True),\n",
       " MongoProduct(title='RC helicopter', price=23.98, quantity=45, in_stock=True),\n",
       " MongoProduct(title='RC plane', price=150.98, quantity=15, in_stock=True),\n",
       " MongoProduct(title='RC car', price=10.34, quantity=150, in_stock=True)]"
      ]
     },
     "execution_count": 27,
     "metadata": {},
     "output_type": "execute_result"
    }
   ],
   "source": [
    "mongo_python_objects"
   ]
  },
  {
   "cell_type": "code",
   "execution_count": 19,
   "metadata": {},
   "outputs": [],
   "source": [
    "prod = mongo_python_objects[0]"
   ]
  },
  {
   "cell_type": "code",
   "execution_count": 21,
   "metadata": {},
   "outputs": [
    {
     "data": {
      "text/plain": [
       "34999.65"
      ]
     },
     "execution_count": 21,
     "metadata": {},
     "output_type": "execute_result"
    }
   ],
   "source": [
    "prod.get_inventory_value()"
   ]
  },
  {
   "cell_type": "code",
   "execution_count": 28,
   "metadata": {},
   "outputs": [
    {
     "data": {
      "text/plain": [
       "2264.7"
      ]
     },
     "execution_count": 28,
     "metadata": {},
     "output_type": "execute_result"
    }
   ],
   "source": [
    "mongo_python_objects[2].get_inventory_value()"
   ]
  },
  {
   "cell_type": "code",
   "execution_count": 29,
   "metadata": {},
   "outputs": [
    {
     "data": {
      "text/plain": [
       "'The product RC helicopter is in stock'"
      ]
     },
     "execution_count": 29,
     "metadata": {},
     "output_type": "execute_result"
    }
   ],
   "source": [
    "mongo_python_objects[1].check_in_stock()"
   ]
  },
  {
   "attachments": {},
   "cell_type": "markdown",
   "metadata": {},
   "source": [
    "### Data Classes\n",
    "1. extract data from any api \n",
    "2. insert the data into mongo (make a reusable function which does that)\n",
    "3. read the data from mongo, go over each document (dictionary) and package it using a dataclass of your own (it must have at least 2 functions that do something )"
   ]
  },
  {
   "cell_type": "code",
   "execution_count": null,
   "metadata": {},
   "outputs": [],
   "source": []
  },
  {
   "cell_type": "code",
   "execution_count": null,
   "metadata": {},
   "outputs": [],
   "source": []
  },
  {
   "cell_type": "code",
   "execution_count": null,
   "metadata": {},
   "outputs": [],
   "source": []
  }
 ],
 "metadata": {
  "kernelspec": {
   "display_name": "Python 3",
   "language": "python",
   "name": "python3"
  },
  "language_info": {
   "codemirror_mode": {
    "name": "ipython",
    "version": 3
   },
   "file_extension": ".py",
   "mimetype": "text/x-python",
   "name": "python",
   "nbconvert_exporter": "python",
   "pygments_lexer": "ipython3",
   "version": "3.10.4 (tags/v3.10.4:9d38120, Mar 23 2022, 23:13:41) [MSC v.1929 64 bit (AMD64)]"
  },
  "orig_nbformat": 4,
  "vscode": {
   "interpreter": {
    "hash": "70421f5f0cc010d0d2ea1c93b0b378f400edc45d27392d3a85ceae24da975056"
   }
  }
 },
 "nbformat": 4,
 "nbformat_minor": 2
}
